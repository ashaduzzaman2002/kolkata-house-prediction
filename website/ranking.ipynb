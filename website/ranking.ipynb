{
 "cells": [
  {
   "cell_type": "code",
   "execution_count": 1,
   "id": "fbcfab01",
   "metadata": {},
   "outputs": [],
   "source": [
    "import pandas as pd"
   ]
  },
  {
   "cell_type": "code",
   "execution_count": 2,
   "id": "fc50bf2e",
   "metadata": {},
   "outputs": [],
   "source": [
    "df = pd.read_csv('Kolkata.csv')"
   ]
  },
  {
   "cell_type": "code",
   "execution_count": 3,
   "id": "7d05b701",
   "metadata": {},
   "outputs": [
    {
     "data": {
      "text/html": [
       "<div>\n",
       "<style scoped>\n",
       "    .dataframe tbody tr th:only-of-type {\n",
       "        vertical-align: middle;\n",
       "    }\n",
       "\n",
       "    .dataframe tbody tr th {\n",
       "        vertical-align: top;\n",
       "    }\n",
       "\n",
       "    .dataframe thead th {\n",
       "        text-align: right;\n",
       "    }\n",
       "</style>\n",
       "<table border=\"1\" class=\"dataframe\">\n",
       "  <thead>\n",
       "    <tr style=\"text-align: right;\">\n",
       "      <th></th>\n",
       "      <th>Price</th>\n",
       "      <th>Area</th>\n",
       "      <th>Location</th>\n",
       "      <th>No. of Bedrooms</th>\n",
       "      <th>Resale</th>\n",
       "      <th>MaintenanceStaff</th>\n",
       "      <th>Gymnasium</th>\n",
       "      <th>SwimmingPool</th>\n",
       "      <th>LandscapedGardens</th>\n",
       "      <th>JoggingTrack</th>\n",
       "      <th>...</th>\n",
       "      <th>LiftAvailable</th>\n",
       "      <th>BED</th>\n",
       "      <th>VaastuCompliant</th>\n",
       "      <th>Microwave</th>\n",
       "      <th>GolfCourse</th>\n",
       "      <th>TV</th>\n",
       "      <th>DiningTable</th>\n",
       "      <th>Sofa</th>\n",
       "      <th>Wardrobe</th>\n",
       "      <th>Refrigerator</th>\n",
       "    </tr>\n",
       "  </thead>\n",
       "  <tbody>\n",
       "    <tr>\n",
       "      <th>0</th>\n",
       "      <td>2235000</td>\n",
       "      <td>1016</td>\n",
       "      <td>Barasat</td>\n",
       "      <td>3</td>\n",
       "      <td>0</td>\n",
       "      <td>0</td>\n",
       "      <td>1</td>\n",
       "      <td>1</td>\n",
       "      <td>1</td>\n",
       "      <td>1</td>\n",
       "      <td>...</td>\n",
       "      <td>1</td>\n",
       "      <td>0</td>\n",
       "      <td>0</td>\n",
       "      <td>0</td>\n",
       "      <td>0</td>\n",
       "      <td>0</td>\n",
       "      <td>0</td>\n",
       "      <td>0</td>\n",
       "      <td>0</td>\n",
       "      <td>0</td>\n",
       "    </tr>\n",
       "    <tr>\n",
       "      <th>1</th>\n",
       "      <td>3665999</td>\n",
       "      <td>1111</td>\n",
       "      <td>Keshtopur</td>\n",
       "      <td>2</td>\n",
       "      <td>0</td>\n",
       "      <td>1</td>\n",
       "      <td>1</td>\n",
       "      <td>0</td>\n",
       "      <td>1</td>\n",
       "      <td>1</td>\n",
       "      <td>...</td>\n",
       "      <td>0</td>\n",
       "      <td>0</td>\n",
       "      <td>0</td>\n",
       "      <td>0</td>\n",
       "      <td>0</td>\n",
       "      <td>0</td>\n",
       "      <td>0</td>\n",
       "      <td>0</td>\n",
       "      <td>0</td>\n",
       "      <td>0</td>\n",
       "    </tr>\n",
       "    <tr>\n",
       "      <th>2</th>\n",
       "      <td>3774000</td>\n",
       "      <td>1020</td>\n",
       "      <td>Rajarhat</td>\n",
       "      <td>2</td>\n",
       "      <td>0</td>\n",
       "      <td>0</td>\n",
       "      <td>1</td>\n",
       "      <td>0</td>\n",
       "      <td>0</td>\n",
       "      <td>0</td>\n",
       "      <td>...</td>\n",
       "      <td>1</td>\n",
       "      <td>0</td>\n",
       "      <td>0</td>\n",
       "      <td>0</td>\n",
       "      <td>0</td>\n",
       "      <td>0</td>\n",
       "      <td>0</td>\n",
       "      <td>0</td>\n",
       "      <td>0</td>\n",
       "      <td>0</td>\n",
       "    </tr>\n",
       "    <tr>\n",
       "      <th>3</th>\n",
       "      <td>2524000</td>\n",
       "      <td>935</td>\n",
       "      <td>Narendrapur</td>\n",
       "      <td>2</td>\n",
       "      <td>0</td>\n",
       "      <td>0</td>\n",
       "      <td>1</td>\n",
       "      <td>1</td>\n",
       "      <td>1</td>\n",
       "      <td>1</td>\n",
       "      <td>...</td>\n",
       "      <td>0</td>\n",
       "      <td>0</td>\n",
       "      <td>0</td>\n",
       "      <td>0</td>\n",
       "      <td>0</td>\n",
       "      <td>0</td>\n",
       "      <td>0</td>\n",
       "      <td>0</td>\n",
       "      <td>0</td>\n",
       "      <td>0</td>\n",
       "    </tr>\n",
       "    <tr>\n",
       "      <th>4</th>\n",
       "      <td>8300000</td>\n",
       "      <td>1956</td>\n",
       "      <td>New Town</td>\n",
       "      <td>3</td>\n",
       "      <td>1</td>\n",
       "      <td>0</td>\n",
       "      <td>1</td>\n",
       "      <td>1</td>\n",
       "      <td>1</td>\n",
       "      <td>1</td>\n",
       "      <td>...</td>\n",
       "      <td>1</td>\n",
       "      <td>0</td>\n",
       "      <td>1</td>\n",
       "      <td>0</td>\n",
       "      <td>0</td>\n",
       "      <td>0</td>\n",
       "      <td>0</td>\n",
       "      <td>0</td>\n",
       "      <td>0</td>\n",
       "      <td>0</td>\n",
       "    </tr>\n",
       "  </tbody>\n",
       "</table>\n",
       "<p>5 rows × 40 columns</p>\n",
       "</div>"
      ],
      "text/plain": [
       "     Price  Area     Location  No. of Bedrooms  Resale  MaintenanceStaff  \\\n",
       "0  2235000  1016      Barasat                3       0                 0   \n",
       "1  3665999  1111    Keshtopur                2       0                 1   \n",
       "2  3774000  1020     Rajarhat                2       0                 0   \n",
       "3  2524000   935  Narendrapur                2       0                 0   \n",
       "4  8300000  1956     New Town                3       1                 0   \n",
       "\n",
       "   Gymnasium  SwimmingPool  LandscapedGardens  JoggingTrack  ...  \\\n",
       "0          1             1                  1             1  ...   \n",
       "1          1             0                  1             1  ...   \n",
       "2          1             0                  0             0  ...   \n",
       "3          1             1                  1             1  ...   \n",
       "4          1             1                  1             1  ...   \n",
       "\n",
       "   LiftAvailable  BED  VaastuCompliant  Microwave  GolfCourse  TV  \\\n",
       "0              1    0                0          0           0   0   \n",
       "1              0    0                0          0           0   0   \n",
       "2              1    0                0          0           0   0   \n",
       "3              0    0                0          0           0   0   \n",
       "4              1    0                1          0           0   0   \n",
       "\n",
       "   DiningTable  Sofa  Wardrobe  Refrigerator  \n",
       "0            0     0         0             0  \n",
       "1            0     0         0             0  \n",
       "2            0     0         0             0  \n",
       "3            0     0         0             0  \n",
       "4            0     0         0             0  \n",
       "\n",
       "[5 rows x 40 columns]"
      ]
     },
     "execution_count": 3,
     "metadata": {},
     "output_type": "execute_result"
    }
   ],
   "source": [
    "df.head()"
   ]
  },
  {
   "cell_type": "code",
   "execution_count": 4,
   "id": "28c32ad5",
   "metadata": {},
   "outputs": [
    {
     "name": "stdout",
     "output_type": "stream",
     "text": [
      "<class 'pandas.core.frame.DataFrame'>\n",
      "RangeIndex: 6507 entries, 0 to 6506\n",
      "Data columns (total 40 columns):\n",
      " #   Column               Non-Null Count  Dtype \n",
      "---  ------               --------------  ----- \n",
      " 0   Price                6507 non-null   int64 \n",
      " 1   Area                 6507 non-null   int64 \n",
      " 2   Location             6507 non-null   object\n",
      " 3   No. of Bedrooms      6507 non-null   int64 \n",
      " 4   Resale               6507 non-null   int64 \n",
      " 5   MaintenanceStaff     6507 non-null   int64 \n",
      " 6   Gymnasium            6507 non-null   int64 \n",
      " 7   SwimmingPool         6507 non-null   int64 \n",
      " 8   LandscapedGardens    6507 non-null   int64 \n",
      " 9   JoggingTrack         6507 non-null   int64 \n",
      " 10  RainWaterHarvesting  6507 non-null   int64 \n",
      " 11  IndoorGames          6507 non-null   int64 \n",
      " 12  ShoppingMall         6507 non-null   int64 \n",
      " 13  Intercom             6507 non-null   int64 \n",
      " 14  SportsFacility       6507 non-null   int64 \n",
      " 15  ATM                  6507 non-null   int64 \n",
      " 16  ClubHouse            6507 non-null   int64 \n",
      " 17  School               6507 non-null   int64 \n",
      " 18  24X7Security         6507 non-null   int64 \n",
      " 19  PowerBackup          6507 non-null   int64 \n",
      " 20  CarParking           6507 non-null   int64 \n",
      " 21  StaffQuarter         6507 non-null   int64 \n",
      " 22  Cafeteria            6507 non-null   int64 \n",
      " 23  MultipurposeRoom     6507 non-null   int64 \n",
      " 24  Hospital             6507 non-null   int64 \n",
      " 25  WashingMachine       6507 non-null   int64 \n",
      " 26  Gasconnection        6507 non-null   int64 \n",
      " 27  AC                   6507 non-null   int64 \n",
      " 28  Wifi                 6507 non-null   int64 \n",
      " 29  Children'splayarea   6507 non-null   int64 \n",
      " 30  LiftAvailable        6507 non-null   int64 \n",
      " 31  BED                  6507 non-null   int64 \n",
      " 32  VaastuCompliant      6507 non-null   int64 \n",
      " 33  Microwave            6507 non-null   int64 \n",
      " 34  GolfCourse           6507 non-null   int64 \n",
      " 35  TV                   6507 non-null   int64 \n",
      " 36  DiningTable          6507 non-null   int64 \n",
      " 37  Sofa                 6507 non-null   int64 \n",
      " 38  Wardrobe             6507 non-null   int64 \n",
      " 39  Refrigerator         6507 non-null   int64 \n",
      "dtypes: int64(39), object(1)\n",
      "memory usage: 2.0+ MB\n"
     ]
    }
   ],
   "source": [
    "df.info()"
   ]
  },
  {
   "cell_type": "code",
   "execution_count": 5,
   "id": "72c23796",
   "metadata": {},
   "outputs": [],
   "source": [
    "filtered_df = df[df['No. of Bedrooms'] == 2]"
   ]
  },
  {
   "cell_type": "code",
   "execution_count": 6,
   "id": "cdb50ab8",
   "metadata": {},
   "outputs": [
    {
     "data": {
      "text/plain": [
       "(2622, 40)"
      ]
     },
     "execution_count": 6,
     "metadata": {},
     "output_type": "execute_result"
    }
   ],
   "source": [
    "filtered_df.shape"
   ]
  },
  {
   "cell_type": "code",
   "execution_count": 7,
   "id": "3d42a26e",
   "metadata": {},
   "outputs": [],
   "source": [
    "unique_locations = df['Location'].unique()"
   ]
  },
  {
   "cell_type": "code",
   "execution_count": 8,
   "id": "6eacfa61",
   "metadata": {},
   "outputs": [
    {
     "data": {
      "text/plain": [
       "(308,)"
      ]
     },
     "execution_count": 8,
     "metadata": {},
     "output_type": "execute_result"
    }
   ],
   "source": [
    "unique_locations.shape"
   ]
  },
  {
   "cell_type": "code",
   "execution_count": 9,
   "id": "06d4d5f2",
   "metadata": {},
   "outputs": [],
   "source": [
    "grouped_df = df.groupby('Location').mean()[['Price', 'Area']]"
   ]
  },
  {
   "cell_type": "code",
   "execution_count": 10,
   "id": "e2338232",
   "metadata": {},
   "outputs": [],
   "source": [
    "grouped_df['price_per_sqft'] = grouped_df['Price'] / grouped_df['Area']"
   ]
  },
  {
   "cell_type": "code",
   "execution_count": 11,
   "id": "693dbcee",
   "metadata": {},
   "outputs": [
    {
     "data": {
      "text/plain": [
       "(308, 3)"
      ]
     },
     "execution_count": 11,
     "metadata": {},
     "output_type": "execute_result"
    }
   ],
   "source": [
    "grouped_df.shape"
   ]
  },
  {
   "cell_type": "code",
   "execution_count": 12,
   "id": "319f34e6",
   "metadata": {},
   "outputs": [
    {
     "data": {
      "text/html": [
       "<div>\n",
       "<style scoped>\n",
       "    .dataframe tbody tr th:only-of-type {\n",
       "        vertical-align: middle;\n",
       "    }\n",
       "\n",
       "    .dataframe tbody tr th {\n",
       "        vertical-align: top;\n",
       "    }\n",
       "\n",
       "    .dataframe thead th {\n",
       "        text-align: right;\n",
       "    }\n",
       "</style>\n",
       "<table border=\"1\" class=\"dataframe\">\n",
       "  <thead>\n",
       "    <tr style=\"text-align: right;\">\n",
       "      <th></th>\n",
       "      <th>Price</th>\n",
       "      <th>Area</th>\n",
       "      <th>price_per_sqft</th>\n",
       "    </tr>\n",
       "    <tr>\n",
       "      <th>Location</th>\n",
       "      <th></th>\n",
       "      <th></th>\n",
       "      <th></th>\n",
       "    </tr>\n",
       "  </thead>\n",
       "  <tbody>\n",
       "    <tr>\n",
       "      <th>Acharya Jagadish Chandra Bose Road</th>\n",
       "      <td>6000000.0</td>\n",
       "      <td>850.0</td>\n",
       "      <td>7058.823529</td>\n",
       "    </tr>\n",
       "    <tr>\n",
       "      <th>Action Area I</th>\n",
       "      <td>3825000.0</td>\n",
       "      <td>1216.0</td>\n",
       "      <td>3145.559211</td>\n",
       "    </tr>\n",
       "    <tr>\n",
       "      <th>Action Area I Newtown</th>\n",
       "      <td>4152875.0</td>\n",
       "      <td>1358.0</td>\n",
       "      <td>3058.081738</td>\n",
       "    </tr>\n",
       "    <tr>\n",
       "      <th>Action Area II Newtown</th>\n",
       "      <td>9655500.0</td>\n",
       "      <td>1551.0</td>\n",
       "      <td>6225.338491</td>\n",
       "    </tr>\n",
       "    <tr>\n",
       "      <th>Action Area IIB Newtown</th>\n",
       "      <td>7445000.0</td>\n",
       "      <td>1450.0</td>\n",
       "      <td>5134.482759</td>\n",
       "    </tr>\n",
       "  </tbody>\n",
       "</table>\n",
       "</div>"
      ],
      "text/plain": [
       "                                        Price    Area  price_per_sqft\n",
       "Location                                                             \n",
       "Acharya Jagadish Chandra Bose Road  6000000.0   850.0     7058.823529\n",
       "Action Area I                       3825000.0  1216.0     3145.559211\n",
       "Action Area I Newtown               4152875.0  1358.0     3058.081738\n",
       "Action Area II Newtown              9655500.0  1551.0     6225.338491\n",
       "Action Area IIB Newtown             7445000.0  1450.0     5134.482759"
      ]
     },
     "execution_count": 12,
     "metadata": {},
     "output_type": "execute_result"
    }
   ],
   "source": [
    "grouped_df.head()"
   ]
  },
  {
   "cell_type": "code",
   "execution_count": 13,
   "id": "d86acdfa",
   "metadata": {},
   "outputs": [],
   "source": [
    "grouped_df = grouped_df.sort_values(by='price_per_sqft', ascending=True)"
   ]
  },
  {
   "cell_type": "code",
   "execution_count": 14,
   "id": "24436660",
   "metadata": {},
   "outputs": [
    {
     "data": {
      "text/html": [
       "<div>\n",
       "<style scoped>\n",
       "    .dataframe tbody tr th:only-of-type {\n",
       "        vertical-align: middle;\n",
       "    }\n",
       "\n",
       "    .dataframe tbody tr th {\n",
       "        vertical-align: top;\n",
       "    }\n",
       "\n",
       "    .dataframe thead th {\n",
       "        text-align: right;\n",
       "    }\n",
       "</style>\n",
       "<table border=\"1\" class=\"dataframe\">\n",
       "  <thead>\n",
       "    <tr style=\"text-align: right;\">\n",
       "      <th></th>\n",
       "      <th>Price</th>\n",
       "      <th>Area</th>\n",
       "      <th>price_per_sqft</th>\n",
       "    </tr>\n",
       "    <tr>\n",
       "      <th>Location</th>\n",
       "      <th></th>\n",
       "      <th></th>\n",
       "      <th></th>\n",
       "    </tr>\n",
       "  </thead>\n",
       "  <tbody>\n",
       "    <tr>\n",
       "      <th>Sarat Bose Road</th>\n",
       "      <td>2431000.0</td>\n",
       "      <td>5000.000000</td>\n",
       "      <td>486.200000</td>\n",
       "    </tr>\n",
       "    <tr>\n",
       "      <th>C R Avenue</th>\n",
       "      <td>2200000.0</td>\n",
       "      <td>2000.000000</td>\n",
       "      <td>1100.000000</td>\n",
       "    </tr>\n",
       "    <tr>\n",
       "      <th>Kayastopara</th>\n",
       "      <td>2100000.0</td>\n",
       "      <td>1530.000000</td>\n",
       "      <td>1372.549020</td>\n",
       "    </tr>\n",
       "    <tr>\n",
       "      <th>Sodepur Road</th>\n",
       "      <td>2160000.0</td>\n",
       "      <td>1485.000000</td>\n",
       "      <td>1454.545455</td>\n",
       "    </tr>\n",
       "    <tr>\n",
       "      <th>Newtown AA III</th>\n",
       "      <td>2809000.0</td>\n",
       "      <td>1842.333333</td>\n",
       "      <td>1524.696942</td>\n",
       "    </tr>\n",
       "  </tbody>\n",
       "</table>\n",
       "</div>"
      ],
      "text/plain": [
       "                     Price         Area  price_per_sqft\n",
       "Location                                               \n",
       "Sarat Bose Road  2431000.0  5000.000000      486.200000\n",
       "C R Avenue       2200000.0  2000.000000     1100.000000\n",
       "Kayastopara      2100000.0  1530.000000     1372.549020\n",
       "Sodepur Road     2160000.0  1485.000000     1454.545455\n",
       "Newtown AA III   2809000.0  1842.333333     1524.696942"
      ]
     },
     "execution_count": 14,
     "metadata": {},
     "output_type": "execute_result"
    }
   ],
   "source": [
    "grouped_df.head()"
   ]
  },
  {
   "cell_type": "code",
   "execution_count": 15,
   "id": "ea20f5cc",
   "metadata": {},
   "outputs": [],
   "source": [
    "grouped_df.to_csv('ranking.csv', index=True)"
   ]
  },
  {
   "cell_type": "code",
   "execution_count": null,
   "id": "320ada1a",
   "metadata": {},
   "outputs": [],
   "source": []
  }
 ],
 "metadata": {
  "kernelspec": {
   "display_name": "Python 3 (ipykernel)",
   "language": "python",
   "name": "python3"
  },
  "language_info": {
   "codemirror_mode": {
    "name": "ipython",
    "version": 3
   },
   "file_extension": ".py",
   "mimetype": "text/x-python",
   "name": "python",
   "nbconvert_exporter": "python",
   "pygments_lexer": "ipython3",
   "version": "3.9.13"
  }
 },
 "nbformat": 4,
 "nbformat_minor": 5
}
